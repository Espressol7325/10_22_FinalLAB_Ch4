{
 "cells": [
  {
   "cell_type": "code",
   "execution_count": null,
   "metadata": {},
   "outputs": [],
   "source": [
    "import os\n",
    "import nltk\n",
    "import re\n",
    "from underthesea import sent_tokenize\n",
    "from nltk.corpus import stopwords\n",
    "from autocorrect import spell\n",
    "from emot.emo_unicode import UNICODE_EMOJI \n",
    "from emot.emo_unicode import EMOTICONS_EMO \n",
    "from nltk.probability import FreqDist\n",
    "\n",
    "def converting_emojis(text):   \n",
    "    for x in EMOTICONS_EMO:\n",
    "        text = text.replace(x, \"_\".join(EMOTICONS_EMO[x].replace(\",\",\"\").replace(\":\",\"\").split()))\n",
    "    for x in UNICODE_EMOJI:\n",
    "        text = text.replace(x, \"_\".join(UNICODE_EMOJI[x].replace(\",\",\"\").replace(\":\",\"\").split()))\n",
    "    return text\n",
    "\n",
    "def stop(text):\n",
    "    f = open(r\"D:\\Y2023-2024_S1\\10_KPW\\Slides\\vietnamese-stopwords.txt\", \"r\", encoding=\"utf-8\")\n",
    "    #Get Stop words Dictionaries\n",
    "    List_StopWords=f.read().split(\"\\n\")\n",
    "    #remove stop words\n",
    "    text_pre=\" \".join(text for text in text.split() if text not in List_StopWords)\n",
    "    return text_pre\n",
    "\n",
    "\n",
    "path = r'D:\\Y2023-2024_S1\\10_KPW\\10_22_FInalLAB_Ch4\\Data4'\n",
    "for filename in os.listdir(path):\n",
    "    with open(os.path.join(path, filename), 'r', encoding='utf-8') as file:\n",
    "        all_words= []\n",
    "        text=file.read()\n",
    "        text = text.lower() # Convert text to lowercase\n",
    "        text = re.sub(r'http\\S+', '', text) # Remove html\n",
    "        text = re.sub(r'[^\\w\\s]','',text) # Remove punctuation\n",
    "        text = re.sub(\"\\d+\", \" \", text) # Remove number\n",
    "        text = converting_emojis(text) #Remove emoji\n",
    "        text = re.sub(r\"[!@#$[]()]'\", \"\", text) # Remove character: !@#$[]()\n",
    "        text = stop(text) #Remove stopwords\n",
    "        text = spell(text) #Autocorrect\n",
    "        sentences = nltk.sent_tokenize(text) # Sentence Tokenizing\n",
    "        for sentence in sentences:\n",
    "            words = nltk.word_tokenize(sentence) # Word Tokenizing\n",
    "            all_words.extend(words)\n",
    "        with open(r'D:\\Y2023-2024_S1\\10_KPW\\10_22_FInalLAB_Ch4\\Data Preprocessing\\\\'+ filename, 'w', encoding='utf-8') as output_file:\n",
    "            for word in all_words:\n",
    "                output_file.write(word + '\\n')\n"
   ]
  }
 ],
 "metadata": {
  "kernelspec": {
   "display_name": "Python 3",
   "language": "python",
   "name": "python3"
  },
  "language_info": {
   "codemirror_mode": {
    "name": "ipython",
    "version": 3
   },
   "file_extension": ".py",
   "mimetype": "text/x-python",
   "name": "python",
   "nbconvert_exporter": "python",
   "pygments_lexer": "ipython3",
   "version": "3.11.6"
  }
 },
 "nbformat": 4,
 "nbformat_minor": 2
}
